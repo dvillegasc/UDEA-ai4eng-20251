{
  "nbformat": 4,
  "nbformat_minor": 0,
  "metadata": {
    "colab": {
      "provenance": []
    },
    "kernelspec": {
      "name": "python3",
      "display_name": "Python 3"
    },
    "language_info": {
      "name": "python"
    }
  },
  "cells": [
    {
      "cell_type": "markdown",
      "source": [
        "# Modelo número 4\n"
      ],
      "metadata": {
        "id": "Intro_DT_Final"
      }
    },
    {
      "cell_type": "markdown",
      "source": [
        "### 1. Carga de librerías\n"
      ],
      "metadata": {
        "id": "Data_DT_Final"
      }
    },
    {
      "cell_type": "code",
      "source": [
        "import pandas as pd\n",
        "import numpy as np\n",
        "import gc\n",
        "\n",
        "from sklearn.model_selection import train_test_split\n",
        "from sklearn.preprocessing import LabelEncoder\n",
        "from sklearn.metrics import accuracy_score\n",
        "from sklearn.tree import DecisionTreeClassifier"
      ],
      "metadata": {
        "id": "5YEIPXVbc8g6"
      },
      "execution_count": null,
      "outputs": []
    },
    {
      "cell_type": "markdown",
      "source": [
        "### 2. Función de preprocesado avanzado"
      ],
      "metadata": {
        "id": "zr0ARLrydBWt"
      }
    },
    {
      "cell_type": "code",
      "source": [
        "def preprocesamiento_avanzado_definitivo(df_input):\n",
        "    df = df_input.copy()\n",
        "\n",
        "    # Eliminar columnas con un solo valor\n",
        "    for col in df.columns:\n",
        "        if df[col].nunique(dropna=False) <= 1:\n",
        "            df.drop(columns=[col], inplace=True)\n",
        "\n",
        "    # Imputación de valores nulos para variables categóricas\n",
        "    for col in df.select_dtypes(include=['object']).columns:\n",
        "        if col != 'RENDIMIENTO_GLOBAL':\n",
        "            df[col].fillna(df[col].mode()[0], inplace=True)\n",
        "\n",
        "    # Conversión automática de columnas binarias 'Sí/No'\n",
        "    print(\"Buscando y convirtiendo automáticamente columnas 'Si'/'No'...\")\n",
        "    si_no_map = {'Si': 1, 'No': 0, 'S': 1, 'N': 0}\n",
        "    for col in df.select_dtypes(include=['object']).columns:\n",
        "        unique_vals = set(df[col].dropna().unique())\n",
        "        if unique_vals.issubset(si_no_map.keys()):\n",
        "            print(f\"  -> Columna binaria encontrada: '{col}'. Convirtiendo a 1/0.\")\n",
        "            df[col] = df[col].map(si_no_map)\n",
        "            df[col] = pd.to_numeric(df[col], errors='coerce').astype('Int8')\n",
        "\n",
        "    # Conversión de variables educativas\n",
        "    edu_map = {'Ninguno': 0, 'No sabe': 0, 'Primaria incompleta': 1, 'Primaria completa': 2, 'Secundaria (Bachillerato) incompleta': 3, 'Secundaria (Bachillerato) completa': 4, 'Técnica o tecnológica incompleta': 5, 'Técnica o tecnológica completa': 6, 'Postgrado': 7}\n",
        "    if 'FAMI_EDUCACIONPADRE' in df.columns:\n",
        "        df['FAMI_EDUCACIONPADRE'] = df['FAMI_EDUCACIONPADRE'].map(edu_map)\n",
        "    if 'FAMI_EDUCACIONMADRE' in df.columns:\n",
        "        df['FAMI_EDUCACIONMADRE'] = df['FAMI_EDUCACIONMADRE'].map(edu_map)\n",
        "\n",
        "    # Otras transformaciones específicas\n",
        "    if 'ESTU_VALORMATRICULAUNIVERSIDAD' in df.columns:\n",
        "        df['ESTU_VALORMATRICULAUNIVERSIDAD'] = df['ESTU_VALORMATRICULAUNIVERSIDAD'].map({'No pagó matrícula': 0, 'Menos de 500 mil': 1, 'Entre 500 mil y menos de 1 millón': 2, 'Entre 1 millón y menos de 2.5 millones': 3, 'Entre 2.5 millones y menos de 4 millones': 4, 'Entre 4 millones y menos de 5.5 millones': 5, 'Entre 5.5 millones y menos de 7 millones': 6, 'Más de 7 millones': 7})\n",
        "    if 'ESTU_HORASSEMANATRABAJA' in df.columns:\n",
        "        df['ESTU_HORASSEMANATRABAJA'] = df['ESTU_HORASSEMANATRABAJA'].map({'0': 0, 'Menos de 10 horas': 1, 'Entre 11 y 20 horas': 2, 'Entre 21 y 30 horas': 3, 'Más de 30 horas': 4})\n",
        "    if 'FAMI_ESTRATOVIVIENDA' in df.columns:\n",
        "        df['FAMI_ESTRATOVIVIENDA'] = df['FAMI_ESTRATOVIVIENDA'].str.replace('Estrato ', '').str.replace('Sin Estrato', '0').astype(np.int8)\n",
        "\n",
        "    # Crear nuevas variables\n",
        "    df['INDICE_SOCIOECONOMICO'] = (df['FAMI_TIENEINTERNET'] + df['FAMI_TIENELAVADORA'] + df['FAMI_TIENECOMPUTADOR'] + df['FAMI_TIENEAUTOMOVIL']).astype(np.int8)\n",
        "    df['PROMEDIO_EDU_PADRES'] = (df['FAMI_EDUCACIONPADRE'] + df['FAMI_EDUCACIONMADRE']).astype(np.float32) / 2.0\n",
        "    df.drop(['FAMI_EDUCACIONPADRE', 'FAMI_EDUCACIONMADRE'], axis=1, inplace=True, errors='ignore')\n",
        "\n",
        "    # Codificación one-hot\n",
        "    df = pd.get_dummies(df, columns=['ESTU_PRGM_ACADEMICO', 'ESTU_PRGM_DEPARTAMENTO'], dummy_na=False, dtype=np.int8)\n",
        "    return df\n",
        "\n"
      ],
      "metadata": {
        "id": "IdQXIu_HR7Po"
      },
      "execution_count": null,
      "outputs": []
    },
    {
      "cell_type": "markdown",
      "source": [
        "### 3. Carga y procesamiento de datos"
      ],
      "metadata": {
        "id": "bud1-4Atebfj"
      }
    },
    {
      "cell_type": "code",
      "source": [
        "print(\"Cargando datos...\")\n",
        "\n",
        "df_train = pd.read_csv('train.csv')\n",
        "df_test = pd.read_csv('test.csv')\n",
        "\n",
        "# Extraer la columna objetivo (target) del conjunto de entrenamiento\n",
        "target_col = df_train['RENDIMIENTO_GLOBAL']\n",
        "test_ids = df_test['ID']\n",
        "\n",
        "# Eliminar la columna objetivo del conjunto de entrenamiento (solo deben quedar las variables predictoras)\n",
        "df_train = df_train.drop(columns=['RENDIMIENTO_GLOBAL'])\n",
        "\n",
        "print(\"\\n--- Procesando datos de entrenamiento ---\")\n",
        "\n",
        "# PREPROCESAMIENTO DE LOS DATOS\n",
        "train_processed = preprocesamiento_avanzado_definitivo(df_train)\n",
        "del df_train; gc.collect()\n",
        "\n",
        "print(\"\\n--- Procesando datos de prueba ---\")\n",
        "test_processed = preprocesamiento_avanzado_definitivo(df_test)\n",
        "del df_test; gc.collect()\n",
        "\n",
        "print(\"\\n--- Alineando columnas ---\")\n",
        "\n",
        "# Alinear las columnas entre entrenamiento y prueba (deja solo las que están en ambos conjuntos)\n",
        "train_final, test_final = train_processed.align(test_processed, join='inner', axis=1, fill_value=0)\n",
        "del train_processed, test_processed; gc.collect()\n",
        "\n",
        "# Codificar la variable objetivo (de etiquetas tipo texto a números) usando LabelEncoder\n",
        "le = LabelEncoder()\n",
        "y = le.fit_transform(target_col)\n",
        "del target_col; gc.collect()\n",
        "\n",
        "# Eliminar la columna 'ID' si existe, ya que no se usa como variable predictora\n",
        "X = train_final.drop(columns=['ID'], errors='ignore')\n",
        "X_submission = test_final.drop(columns=['ID'], errors='ignore')\n",
        "del train_final, test_final; gc.collect()\n",
        "\n",
        "print(\"\\nDatos listos para modelar.\")"
      ],
      "metadata": {
        "id": "hK2JOZATc6dZ",
        "colab": {
          "base_uri": "https://localhost:8080/"
        },
        "outputId": "88a311b7-62b6-48d1-fee5-5176351262a9"
      },
      "execution_count": null,
      "outputs": [
        {
          "output_type": "stream",
          "name": "stdout",
          "text": [
            "Cargando datos...\n",
            "\n",
            "--- Procesando datos de entrenamiento ---\n"
          ]
        },
        {
          "output_type": "stream",
          "name": "stderr",
          "text": [
            "/tmp/ipython-input-10-1266456060.py:12: FutureWarning: A value is trying to be set on a copy of a DataFrame or Series through chained assignment using an inplace method.\n",
            "The behavior will change in pandas 3.0. This inplace method will never work because the intermediate object on which we are setting values always behaves as a copy.\n",
            "\n",
            "For example, when doing 'df[col].method(value, inplace=True)', try using 'df.method({col: value}, inplace=True)' or df[col] = df[col].method(value) instead, to perform the operation inplace on the original object.\n",
            "\n",
            "\n",
            "  df[col].fillna(df[col].mode()[0], inplace=True)\n"
          ]
        },
        {
          "output_type": "stream",
          "name": "stdout",
          "text": [
            "Buscando y convirtiendo automáticamente columnas 'Si'/'No'...\n",
            "  -> Columna binaria encontrada: 'FAMI_TIENEINTERNET'. Convirtiendo a 1/0.\n",
            "  -> Columna binaria encontrada: 'FAMI_TIENELAVADORA'. Convirtiendo a 1/0.\n",
            "  -> Columna binaria encontrada: 'FAMI_TIENEAUTOMOVIL'. Convirtiendo a 1/0.\n",
            "  -> Columna binaria encontrada: 'ESTU_PRIVADO_LIBERTAD'. Convirtiendo a 1/0.\n",
            "  -> Columna binaria encontrada: 'ESTU_PAGOMATRICULAPROPIO'. Convirtiendo a 1/0.\n",
            "  -> Columna binaria encontrada: 'FAMI_TIENECOMPUTADOR'. Convirtiendo a 1/0.\n",
            "  -> Columna binaria encontrada: 'FAMI_TIENEINTERNET.1'. Convirtiendo a 1/0.\n",
            "\n",
            "--- Procesando datos de prueba ---\n"
          ]
        },
        {
          "output_type": "stream",
          "name": "stderr",
          "text": [
            "/tmp/ipython-input-10-1266456060.py:12: FutureWarning: A value is trying to be set on a copy of a DataFrame or Series through chained assignment using an inplace method.\n",
            "The behavior will change in pandas 3.0. This inplace method will never work because the intermediate object on which we are setting values always behaves as a copy.\n",
            "\n",
            "For example, when doing 'df[col].method(value, inplace=True)', try using 'df.method({col: value}, inplace=True)' or df[col] = df[col].method(value) instead, to perform the operation inplace on the original object.\n",
            "\n",
            "\n",
            "  df[col].fillna(df[col].mode()[0], inplace=True)\n"
          ]
        },
        {
          "output_type": "stream",
          "name": "stdout",
          "text": [
            "Buscando y convirtiendo automáticamente columnas 'Si'/'No'...\n",
            "  -> Columna binaria encontrada: 'FAMI_TIENEINTERNET'. Convirtiendo a 1/0.\n",
            "  -> Columna binaria encontrada: 'FAMI_TIENELAVADORA'. Convirtiendo a 1/0.\n",
            "  -> Columna binaria encontrada: 'FAMI_TIENEAUTOMOVIL'. Convirtiendo a 1/0.\n",
            "  -> Columna binaria encontrada: 'ESTU_PRIVADO_LIBERTAD'. Convirtiendo a 1/0.\n",
            "  -> Columna binaria encontrada: 'ESTU_PAGOMATRICULAPROPIO'. Convirtiendo a 1/0.\n",
            "  -> Columna binaria encontrada: 'FAMI_TIENECOMPUTADOR'. Convirtiendo a 1/0.\n",
            "  -> Columna binaria encontrada: 'FAMI_TIENEINTERNET.1'. Convirtiendo a 1/0.\n",
            "\n",
            "--- Alineando columnas ---\n",
            "\n",
            "Datos listos para modelar.\n"
          ]
        }
      ]
    },
    {
      "cell_type": "markdown",
      "source": [
        "### 4. Entrenamiento y validación del Modelo"
      ],
      "metadata": {
        "id": "Eval_DT_Final"
      }
    },
    {
      "cell_type": "code",
      "source": [
        "# Separar conjunto de validación\n",
        "X_train, X_val, y_train, y_val = train_test_split(X, y, test_size=0.2, random_state=42, stratify=y)\n",
        "\n",
        "print(\"Entrenando Árbol de Decisión...\")\n",
        "model_dt = DecisionTreeClassifier(max_depth=10, random_state=42)\n",
        "model_dt.fit(X_train, y_train)\n",
        "\n",
        "print(\"Evaluando modelo...\")\n",
        "preds_val = model_dt.predict(X_val)\n",
        "accuracy = accuracy_score(y_val, preds_val)\n",
        "\n",
        "print(f\"\\n-- RESULTADO --\")\n",
        "print(f\"Accuracy de Árbol de Decisión en el conjunto de validación: {accuracy:.5f}\")"
      ],
      "metadata": {
        "colab": {
          "base_uri": "https://localhost:8080/"
        },
        "id": "8jmuNLGLR7Pq",
        "outputId": "bc55901b-eb00-4f0e-c26d-79f35f39cef9"
      },
      "execution_count": null,
      "outputs": [
        {
          "output_type": "stream",
          "name": "stdout",
          "text": [
            "Entrenando Árbol de Decisión...\n",
            "Evaluando modelo...\n",
            "\n",
            "-- RESULTADO --\n",
            "Accuracy de Árbol de Decisión en el conjunto de validación: 0.39244\n"
          ]
        }
      ]
    },
    {
      "cell_type": "markdown",
      "source": [
        "### 5. Generación del archivo de kaggle"
      ],
      "metadata": {
        "id": "vFdP4VEQiv95"
      }
    },
    {
      "cell_type": "code",
      "source": [
        "print(\"Re-entrenando el modelo de Árbol de Decisión con todos los datos de entrenamiento...\")\n",
        "\n",
        "# Creamos y entrenamos un nuevo modelo con todos los datos\n",
        "final_model_dt = DecisionTreeClassifier(max_depth=10, random_state=42)\n",
        "final_model_dt.fit(X, y) # Entrenamos con todo X, no solo con X_train\n",
        "\n",
        "print(\"\\nGenerando predicciones para el archivo de submission...\")\n",
        "final_predictions_encoded = final_model_dt.predict(X_submission)\n",
        "final_predictions = le.inverse_transform(final_predictions_encoded)\n",
        "\n",
        "submission_df = pd.DataFrame({'ID': test_ids, 'RENDIMIENTO_GLOBAL': final_predictions})\n",
        "submission_df.to_csv('submission_decision_tree.csv', index=False)\n",
        "\n",
        "print(\"\\n¡Éxito! El archivo 'submission_decision_tree.csv' ha sido creado.\")\n",
        "print(\"Primeras 5 filas del archivo:\")\n",
        "print(submission_df.head())"
      ],
      "metadata": {
        "colab": {
          "base_uri": "https://localhost:8080/"
        },
        "id": "v_rCpnnZUsSG",
        "outputId": "dff73c5c-6c89-406c-b8ab-1cab8c0558a3"
      },
      "execution_count": null,
      "outputs": [
        {
          "output_type": "stream",
          "name": "stdout",
          "text": [
            "Re-entrenando el modelo de Árbol de Decisión con todos los datos de entrenamiento...\n",
            "\n",
            "Generando predicciones para el archivo de submission...\n",
            "\n",
            "¡Éxito! El archivo 'submission_decision_tree.csv' ha sido creado.\n",
            "Primeras 5 filas del archivo:\n",
            "       ID RENDIMIENTO_GLOBAL\n",
            "0  550236         medio-alto\n",
            "1   98545         medio-bajo\n",
            "2  499179               bajo\n",
            "3  782980               bajo\n",
            "4  785185               bajo\n"
          ]
        }
      ]
    }
  ]
}