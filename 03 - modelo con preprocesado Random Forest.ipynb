{
  "cells": [
    {
      "cell_type": "markdown",
      "source": [
        "# **MODELO DE CLASIFICACIÓN RANDOM FOREST OPTIMIZADO PARA RAM** #\n",
        "\n",
        "Este script implementa un modelo de clasificación con Random Forest usando un enfoque optimizado para grandes volúmenes de datos. Se prioriza la eficiencia en el uso de memoria RAM y la simplicidad de codificación. El objetivo es predecir la variable categórica 'RENDIMIENTO_GLOBAL'"
      ],
      "metadata": {
        "id": "jSi_T8Jw1PIl"
      },
      "id": "jSi_T8Jw1PIl"
    },
    {
      "cell_type": "markdown",
      "source": [
        "### **FASE 1:Carga de librerías y función de procesamiento avanzado**"
      ],
      "metadata": {
        "id": "ueI0ULaX47HY"
      },
      "id": "ueI0ULaX47HY"
    },
    {
      "cell_type": "code",
      "execution_count": 1,
      "id": "181df268",
      "metadata": {
        "id": "181df268"
      },
      "outputs": [],
      "source": [
        "#Carga de librerías\n",
        "\n",
        "import pandas as pd\n",
        "import numpy as np\n",
        "import gc\n",
        "from sklearn.model_selection import train_test_split\n",
        "from sklearn.preprocessing import LabelEncoder\n",
        "from sklearn.metrics import accuracy_score\n",
        "from sklearn.ensemble import RandomForestClassifier\n"
      ]
    },
    {
      "cell_type": "code",
      "execution_count": 2,
      "id": "345a11ac",
      "metadata": {
        "id": "345a11ac"
      },
      "outputs": [],
      "source": [
        "#Función de procesamiento avanzado\n",
        "\n",
        "def preprocesamiento_avanzado_definitivo(df_input):\n",
        "    df = df_input.copy()\n",
        "\n",
        "    #Eliminar columnas con un solo valor\n",
        "    for col in df.columns:\n",
        "        if df[col].nunique(dropna=False) <= 1:\n",
        "            df.drop(columns=[col], inplace=True)\n",
        "\n",
        "    #Rellenar valores nulos en columnas categóricas con la moda.\n",
        "    for col in df.select_dtypes(include=['object']).columns:\n",
        "        if col != 'RENDIMIENTO_GLOBAL':\n",
        "            df[col].fillna(df[col].mode()[0], inplace=True)\n",
        "\n",
        "    #Identificar automáticamente columnas binarias y convertirlas a valores numéricos (1 y 0).\n",
        "    si_no_map = {'Si': 1, 'No': 0, 'S': 1, 'N': 0}\n",
        "    for col in df.select_dtypes(include=['object']).columns:\n",
        "        unique_vals = set(df[col].dropna().unique())\n",
        "        if unique_vals.issubset(si_no_map.keys()):\n",
        "            print(f\"  -> Columna binaria encontrada: '{col}'. Convirtiendo a 1/0.\")\n",
        "            df[col] = df[col].map(si_no_map).astype('Int8')\n",
        "\n",
        "    #Mapeos manuales restantes para columnas ordinales\n",
        "    edu_map = {'Ninguno': 0, 'No sabe': 0, 'Primaria incompleta': 1, 'Primaria completa': 2,\n",
        "               'Secundaria (Bachillerato) incompleta': 3, 'Secundaria (Bachillerato) completa': 4,\n",
        "               'Técnica o tecnológica incompleta': 5, 'Técnica o tecnológica completa': 6, 'Postgrado': 7}\n",
        "    if 'FAMI_EDUCACIONPADRE' in df.columns:\n",
        "        df['FAMI_EDUCACIONPADRE'] = df['FAMI_EDUCACIONPADRE'].map(edu_map)\n",
        "    if 'FAMI_EDUCACIONMADRE' in df.columns:\n",
        "        df['FAMI_EDUCACIONMADRE'] = df['FAMI_EDUCACIONMADRE'].map(edu_map)\n",
        "    if 'ESTU_VALORMATRICULAUNIVERSIDAD' in df.columns:\n",
        "        df['ESTU_VALORMATRICULAUNIVERSIDAD'] = df['ESTU_VALORMATRICULAUNIVERSIDAD'].map({\n",
        "            'No pagó matrícula': 0, 'Menos de 500 mil': 1, 'Entre 500 mil y menos de 1 millón': 2,\n",
        "            'Entre 1 millón y menos de 2.5 millones': 3, 'Entre 2.5 millones y menos de 4 millones': 4,\n",
        "            'Entre 4 millones y menos de 5.5 millones': 5, 'Entre 5.5 millones y menos de 7 millones': 6,\n",
        "            'Más de 7 millones': 7})\n",
        "    if 'ESTU_HORASSEMANATRABAJA' in df.columns:\n",
        "        df['ESTU_HORASSEMANATRABAJA'] = df['ESTU_HORASSEMANATRABAJA'].map({\n",
        "            '0': 0, 'Menos de 10 horas': 1, 'Entre 11 y 20 horas': 2, 'Entre 21 y 30 horas': 3, 'Más de 30 horas': 4})\n",
        "    if 'FAMI_ESTRATOVIVIENDA' in df.columns:\n",
        "        df['FAMI_ESTRATOVIVIENDA'] = df['FAMI_ESTRATOVIVIENDA'].str.replace('Estrato ', '').str.replace('Sin Estrato', '0').astype(np.int8)\n",
        "\n",
        "    #Feature Engineering para columnas ya convertidas a número\n",
        "    df['INDICE_SOCIOECONOMICO'] = (df['FAMI_TIENEINTERNET'] + df['FAMI_TIENELAVADORA'] + df['FAMI_TIENECOMPUTADOR'] + df['FAMI_TIENEAUTOMOVIL']).astype(np.int8)\n",
        "    df['PROMEDIO_EDU_PADRES'] = (df['FAMI_EDUCACIONPADRE'] + df['FAMI_EDUCACIONMADRE']).astype(np.float32) / 2.0\n",
        "    df.drop(['FAMI_EDUCACIONPADRE', 'FAMI_EDUCACIONMADRE'], axis=1, inplace=True, errors='ignore')\n",
        "\n",
        "    #Uso de One-Hot Encoding para columnas categóricas con muchas clases\n",
        "    df = pd.get_dummies(df, columns=['ESTU_PRGM_ACADEMICO', 'ESTU_PRGM_DEPARTAMENTO'], dummy_na=False, dtype=np.int8)\n",
        "\n",
        "    return df\n"
      ]
    },
    {
      "cell_type": "markdown",
      "source": [
        "### **FASE 2: Carga y prepocesamientos de los datos**"
      ],
      "metadata": {
        "id": "Sh-FI5qZ5Q6y"
      },
      "id": "Sh-FI5qZ5Q6y"
    },
    {
      "cell_type": "code",
      "execution_count": 3,
      "id": "56bd6a2a",
      "metadata": {
        "colab": {
          "base_uri": "https://localhost:8080/"
        },
        "id": "56bd6a2a",
        "outputId": "2ed51338-e630-4272-bbbd-23972f775de8"
      },
      "outputs": [
        {
          "output_type": "stream",
          "name": "stderr",
          "text": [
            "/tmp/ipython-input-2-3615227931.py:14: FutureWarning: A value is trying to be set on a copy of a DataFrame or Series through chained assignment using an inplace method.\n",
            "The behavior will change in pandas 3.0. This inplace method will never work because the intermediate object on which we are setting values always behaves as a copy.\n",
            "\n",
            "For example, when doing 'df[col].method(value, inplace=True)', try using 'df.method({col: value}, inplace=True)' or df[col] = df[col].method(value) instead, to perform the operation inplace on the original object.\n",
            "\n",
            "\n",
            "  df[col].fillna(df[col].mode()[0], inplace=True)\n"
          ]
        },
        {
          "output_type": "stream",
          "name": "stdout",
          "text": [
            "  -> Columna binaria encontrada: 'FAMI_TIENEINTERNET'. Convirtiendo a 1/0.\n",
            "  -> Columna binaria encontrada: 'FAMI_TIENELAVADORA'. Convirtiendo a 1/0.\n",
            "  -> Columna binaria encontrada: 'FAMI_TIENEAUTOMOVIL'. Convirtiendo a 1/0.\n",
            "  -> Columna binaria encontrada: 'ESTU_PRIVADO_LIBERTAD'. Convirtiendo a 1/0.\n",
            "  -> Columna binaria encontrada: 'ESTU_PAGOMATRICULAPROPIO'. Convirtiendo a 1/0.\n",
            "  -> Columna binaria encontrada: 'FAMI_TIENECOMPUTADOR'. Convirtiendo a 1/0.\n",
            "  -> Columna binaria encontrada: 'FAMI_TIENEINTERNET.1'. Convirtiendo a 1/0.\n"
          ]
        },
        {
          "output_type": "stream",
          "name": "stderr",
          "text": [
            "/tmp/ipython-input-2-3615227931.py:14: FutureWarning: A value is trying to be set on a copy of a DataFrame or Series through chained assignment using an inplace method.\n",
            "The behavior will change in pandas 3.0. This inplace method will never work because the intermediate object on which we are setting values always behaves as a copy.\n",
            "\n",
            "For example, when doing 'df[col].method(value, inplace=True)', try using 'df.method({col: value}, inplace=True)' or df[col] = df[col].method(value) instead, to perform the operation inplace on the original object.\n",
            "\n",
            "\n",
            "  df[col].fillna(df[col].mode()[0], inplace=True)\n"
          ]
        },
        {
          "output_type": "stream",
          "name": "stdout",
          "text": [
            "  -> Columna binaria encontrada: 'FAMI_TIENEINTERNET'. Convirtiendo a 1/0.\n",
            "  -> Columna binaria encontrada: 'FAMI_TIENELAVADORA'. Convirtiendo a 1/0.\n",
            "  -> Columna binaria encontrada: 'FAMI_TIENEAUTOMOVIL'. Convirtiendo a 1/0.\n",
            "  -> Columna binaria encontrada: 'ESTU_PRIVADO_LIBERTAD'. Convirtiendo a 1/0.\n",
            "  -> Columna binaria encontrada: 'ESTU_PAGOMATRICULAPROPIO'. Convirtiendo a 1/0.\n",
            "  -> Columna binaria encontrada: 'FAMI_TIENECOMPUTADOR'. Convirtiendo a 1/0.\n",
            "  -> Columna binaria encontrada: 'FAMI_TIENEINTERNET.1'. Convirtiendo a 1/0.\n"
          ]
        }
      ],
      "source": [
        "#Carga y prepocesamientos de los datos\n",
        "\n",
        "#Se leen los respectivos archivos csv\n",
        "df_train = pd.read_csv('train.csv')\n",
        "df_test = pd.read_csv('test.csv')\n",
        "\n",
        "#Se guardan la variable a predecir (RENDIMIENTO GLOBAL) y el ID\n",
        "target_col = df_train['RENDIMIENTO_GLOBAL']\n",
        "test_ids = df_test['ID']\n",
        "\n",
        "#Se elimina la columna a predecir en el dataset de train para dejar solo variables independientes\n",
        "df_train = df_train.drop(columns=['RENDIMIENTO_GLOBAL'])\n",
        "\n",
        "#Se aplica la función de limpieza y codificación\n",
        "train_processed = preprocesamiento_avanzado_definitivo(df_train)\n",
        "test_processed = preprocesamiento_avanzado_definitivo(df_test)\n",
        "\n",
        "#Se asegura que ambos conjuntos tenga las mismas columnas y el mismo orden\n",
        "train_final, test_final = train_processed.align(test_processed, join='inner', axis=1, fill_value=0)\n",
        "\n",
        "#Se codifica la variable objetivo con números enteros para entrenamiento supervisado\n",
        "le = LabelEncoder()\n",
        "y = le.fit_transform(target_col)\n",
        "\n",
        "#Se define X como el conjunto de características para entrenamiento y se elimina la columna ID ya que no es útil para el modelo\n",
        "X = train_final.drop(columns=['ID'], errors='ignore')\n",
        "X_submission = test_final.drop(columns=['ID'], errors='ignore')\n"
      ]
    },
    {
      "cell_type": "markdown",
      "source": [
        "### **FASE 3: Entrenamiento del modelo Random Forest**"
      ],
      "metadata": {
        "id": "WJ9cYOSX4Uy0"
      },
      "id": "WJ9cYOSX4Uy0"
    },
    {
      "cell_type": "code",
      "execution_count": 4,
      "id": "ddd2d1ca",
      "metadata": {
        "colab": {
          "base_uri": "https://localhost:8080/"
        },
        "id": "ddd2d1ca",
        "outputId": "9760852f-0916-4544-c20b-3d3c0b10c0f1"
      },
      "outputs": [
        {
          "output_type": "stream",
          "name": "stdout",
          "text": [
            "Set de entrenamiento: (554000, 957), Set de validación: (138500, 957)\n",
            "Accuracy en validación: 0.3890\n"
          ]
        }
      ],
      "source": [
        "#División de conjunto de datos\n",
        "X_train, X_val, y_train, y_val = train_test_split(X, y, test_size=0.2, random_state=42, stratify=y)\n",
        "print(f\"Set de entrenamiento: {X_train.shape}, Set de validación: {X_val.shape}\")\n",
        "\n",
        "#Entrenamiento del modelo con sus respectivos hiperparámetros\n",
        "model_rf = RandomForestClassifier(n_estimators=200, max_depth=12, random_state=42, n_jobs=-1, min_samples_leaf=5)\n",
        "model_rf.fit(X_train, y_train)\n",
        "\n",
        "#Predicciones en el conjunto de validación\n",
        "preds_val = model_rf.predict(X_val)\n",
        "accuracy = accuracy_score(y_val, preds_val)\n",
        "\n",
        "#S calcula la exactitud (accuracy)\n",
        "print(f\"Accuracy en validación: {accuracy:.4f}\")\n"
      ]
    },
    {
      "cell_type": "markdown",
      "source": [
        "### **FASE 4: Predicción final y generación del archivo Submission**"
      ],
      "metadata": {
        "id": "s1cAuOpe4pcY"
      },
      "id": "s1cAuOpe4pcY"
    },
    {
      "cell_type": "code",
      "execution_count": 5,
      "id": "dcc47d7d",
      "metadata": {
        "colab": {
          "base_uri": "https://localhost:8080/"
        },
        "id": "dcc47d7d",
        "outputId": "eca0d551-c920-4810-fae2-026aa3e4d7f9"
      },
      "outputs": [
        {
          "output_type": "stream",
          "name": "stdout",
          "text": [
            "Archivo 'submission.csv' generado\n"
          ]
        }
      ],
      "source": [
        "#Se usa el modelo entrenado para hacer predicciones sobre los datos del archivo test.csv\n",
        "\n",
        "preds_submission = model_rf.predict(X_submission)\n",
        "submission_labels = le.inverse_transform(preds_submission)\n",
        "\n",
        "#Se crea un DataFrame con los ID origniales y las predicciones\n",
        "submission_df = pd.DataFrame({\"ID\": test_ids,\"RENDIMIENTO_GLOBAL\": submission_labels})\n",
        "\n",
        "#Se guarda el archivo en formato csv\n",
        "submission_df.to_csv(\"submission.csv\", index=False)\n",
        "\n",
        "print(\"Archivo 'submission.csv' generado\")\n"
      ]
    }
  ],
  "metadata": {
    "colab": {
      "provenance": []
    },
    "language_info": {
      "name": "python"
    },
    "kernelspec": {
      "name": "python3",
      "display_name": "Python 3"
    }
  },
  "nbformat": 4,
  "nbformat_minor": 5
}